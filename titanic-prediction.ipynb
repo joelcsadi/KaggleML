{
 "cells": [
  {
   "cell_type": "markdown",
   "id": "60718bc7",
   "metadata": {
    "papermill": {
     "duration": 0.006133,
     "end_time": "2024-12-18T14:51:01.504800",
     "exception": false,
     "start_time": "2024-12-18T14:51:01.498667",
     "status": "completed"
    },
    "tags": []
   },
   "source": [
    "# Importing Libraries"
   ]
  },
  {
   "cell_type": "code",
   "execution_count": 1,
   "id": "75d76e42",
   "metadata": {
    "_cell_guid": "b1076dfc-b9ad-4769-8c92-a6c4dae69d19",
    "_uuid": "8f2839f25d086af736a60e9eeb907d3b93b6e0e5",
    "execution": {
     "iopub.execute_input": "2024-12-18T14:51:01.516379Z",
     "iopub.status.busy": "2024-12-18T14:51:01.515996Z",
     "iopub.status.idle": "2024-12-18T14:51:04.734439Z",
     "shell.execute_reply": "2024-12-18T14:51:04.733467Z"
    },
    "papermill": {
     "duration": 3.22725,
     "end_time": "2024-12-18T14:51:04.737010",
     "exception": false,
     "start_time": "2024-12-18T14:51:01.509760",
     "status": "completed"
    },
    "tags": []
   },
   "outputs": [],
   "source": [
    "import numpy as np\n",
    "import pandas as pd \n",
    "import os\n",
    "import matplotlib.pyplot as plt\n",
    "import seaborn as sns\n",
    "\n",
    "from sklearn.preprocessing import LabelEncoder\n",
    "from sklearn.ensemble import RandomForestClassifier\n",
    "from sklearn.metrics import accuracy_score, classification_report"
   ]
  },
  {
   "cell_type": "markdown",
   "id": "a35e7065",
   "metadata": {
    "papermill": {
     "duration": 0.004359,
     "end_time": "2024-12-18T14:51:04.746262",
     "exception": false,
     "start_time": "2024-12-18T14:51:04.741903",
     "status": "completed"
    },
    "tags": []
   },
   "source": [
    "# Reading in and viewing Datasets"
   ]
  },
  {
   "cell_type": "code",
   "execution_count": 2,
   "id": "1c989699",
   "metadata": {
    "execution": {
     "iopub.execute_input": "2024-12-18T14:51:04.759146Z",
     "iopub.status.busy": "2024-12-18T14:51:04.758521Z",
     "iopub.status.idle": "2024-12-18T14:51:04.835893Z",
     "shell.execute_reply": "2024-12-18T14:51:04.834551Z"
    },
    "papermill": {
     "duration": 0.087268,
     "end_time": "2024-12-18T14:51:04.838055",
     "exception": false,
     "start_time": "2024-12-18T14:51:04.750787",
     "status": "completed"
    },
    "tags": []
   },
   "outputs": [
    {
     "data": {
      "text/html": [
       "<div>\n",
       "<style scoped>\n",
       "    .dataframe tbody tr th:only-of-type {\n",
       "        vertical-align: middle;\n",
       "    }\n",
       "\n",
       "    .dataframe tbody tr th {\n",
       "        vertical-align: top;\n",
       "    }\n",
       "\n",
       "    .dataframe thead th {\n",
       "        text-align: right;\n",
       "    }\n",
       "</style>\n",
       "<table border=\"1\" class=\"dataframe\">\n",
       "  <thead>\n",
       "    <tr style=\"text-align: right;\">\n",
       "      <th></th>\n",
       "      <th>PassengerId</th>\n",
       "      <th>Survived</th>\n",
       "      <th>Pclass</th>\n",
       "      <th>Name</th>\n",
       "      <th>Sex</th>\n",
       "      <th>Age</th>\n",
       "      <th>SibSp</th>\n",
       "      <th>Parch</th>\n",
       "      <th>Ticket</th>\n",
       "      <th>Fare</th>\n",
       "      <th>Cabin</th>\n",
       "      <th>Embarked</th>\n",
       "    </tr>\n",
       "  </thead>\n",
       "  <tbody>\n",
       "    <tr>\n",
       "      <th>0</th>\n",
       "      <td>1</td>\n",
       "      <td>0</td>\n",
       "      <td>3</td>\n",
       "      <td>Braund, Mr. Owen Harris</td>\n",
       "      <td>male</td>\n",
       "      <td>22.0</td>\n",
       "      <td>1</td>\n",
       "      <td>0</td>\n",
       "      <td>A/5 21171</td>\n",
       "      <td>7.2500</td>\n",
       "      <td>NaN</td>\n",
       "      <td>S</td>\n",
       "    </tr>\n",
       "    <tr>\n",
       "      <th>2</th>\n",
       "      <td>3</td>\n",
       "      <td>1</td>\n",
       "      <td>3</td>\n",
       "      <td>Heikkinen, Miss. Laina</td>\n",
       "      <td>female</td>\n",
       "      <td>26.0</td>\n",
       "      <td>0</td>\n",
       "      <td>0</td>\n",
       "      <td>STON/O2. 3101282</td>\n",
       "      <td>7.9250</td>\n",
       "      <td>NaN</td>\n",
       "      <td>S</td>\n",
       "    </tr>\n",
       "    <tr>\n",
       "      <th>4</th>\n",
       "      <td>5</td>\n",
       "      <td>0</td>\n",
       "      <td>3</td>\n",
       "      <td>Allen, Mr. William Henry</td>\n",
       "      <td>male</td>\n",
       "      <td>35.0</td>\n",
       "      <td>0</td>\n",
       "      <td>0</td>\n",
       "      <td>373450</td>\n",
       "      <td>8.0500</td>\n",
       "      <td>NaN</td>\n",
       "      <td>S</td>\n",
       "    </tr>\n",
       "    <tr>\n",
       "      <th>5</th>\n",
       "      <td>6</td>\n",
       "      <td>0</td>\n",
       "      <td>3</td>\n",
       "      <td>Moran, Mr. James</td>\n",
       "      <td>male</td>\n",
       "      <td>NaN</td>\n",
       "      <td>0</td>\n",
       "      <td>0</td>\n",
       "      <td>330877</td>\n",
       "      <td>8.4583</td>\n",
       "      <td>NaN</td>\n",
       "      <td>Q</td>\n",
       "    </tr>\n",
       "    <tr>\n",
       "      <th>7</th>\n",
       "      <td>8</td>\n",
       "      <td>0</td>\n",
       "      <td>3</td>\n",
       "      <td>Palsson, Master. Gosta Leonard</td>\n",
       "      <td>male</td>\n",
       "      <td>2.0</td>\n",
       "      <td>3</td>\n",
       "      <td>1</td>\n",
       "      <td>349909</td>\n",
       "      <td>21.0750</td>\n",
       "      <td>NaN</td>\n",
       "      <td>S</td>\n",
       "    </tr>\n",
       "    <tr>\n",
       "      <th>...</th>\n",
       "      <td>...</td>\n",
       "      <td>...</td>\n",
       "      <td>...</td>\n",
       "      <td>...</td>\n",
       "      <td>...</td>\n",
       "      <td>...</td>\n",
       "      <td>...</td>\n",
       "      <td>...</td>\n",
       "      <td>...</td>\n",
       "      <td>...</td>\n",
       "      <td>...</td>\n",
       "      <td>...</td>\n",
       "    </tr>\n",
       "    <tr>\n",
       "      <th>884</th>\n",
       "      <td>885</td>\n",
       "      <td>0</td>\n",
       "      <td>3</td>\n",
       "      <td>Sutehall, Mr. Henry Jr</td>\n",
       "      <td>male</td>\n",
       "      <td>25.0</td>\n",
       "      <td>0</td>\n",
       "      <td>0</td>\n",
       "      <td>SOTON/OQ 392076</td>\n",
       "      <td>7.0500</td>\n",
       "      <td>NaN</td>\n",
       "      <td>S</td>\n",
       "    </tr>\n",
       "    <tr>\n",
       "      <th>885</th>\n",
       "      <td>886</td>\n",
       "      <td>0</td>\n",
       "      <td>3</td>\n",
       "      <td>Rice, Mrs. William (Margaret Norton)</td>\n",
       "      <td>female</td>\n",
       "      <td>39.0</td>\n",
       "      <td>0</td>\n",
       "      <td>5</td>\n",
       "      <td>382652</td>\n",
       "      <td>29.1250</td>\n",
       "      <td>NaN</td>\n",
       "      <td>Q</td>\n",
       "    </tr>\n",
       "    <tr>\n",
       "      <th>886</th>\n",
       "      <td>887</td>\n",
       "      <td>0</td>\n",
       "      <td>2</td>\n",
       "      <td>Montvila, Rev. Juozas</td>\n",
       "      <td>male</td>\n",
       "      <td>27.0</td>\n",
       "      <td>0</td>\n",
       "      <td>0</td>\n",
       "      <td>211536</td>\n",
       "      <td>13.0000</td>\n",
       "      <td>NaN</td>\n",
       "      <td>S</td>\n",
       "    </tr>\n",
       "    <tr>\n",
       "      <th>888</th>\n",
       "      <td>889</td>\n",
       "      <td>0</td>\n",
       "      <td>3</td>\n",
       "      <td>Johnston, Miss. Catherine Helen \"Carrie\"</td>\n",
       "      <td>female</td>\n",
       "      <td>NaN</td>\n",
       "      <td>1</td>\n",
       "      <td>2</td>\n",
       "      <td>W./C. 6607</td>\n",
       "      <td>23.4500</td>\n",
       "      <td>NaN</td>\n",
       "      <td>S</td>\n",
       "    </tr>\n",
       "    <tr>\n",
       "      <th>890</th>\n",
       "      <td>891</td>\n",
       "      <td>0</td>\n",
       "      <td>3</td>\n",
       "      <td>Dooley, Mr. Patrick</td>\n",
       "      <td>male</td>\n",
       "      <td>32.0</td>\n",
       "      <td>0</td>\n",
       "      <td>0</td>\n",
       "      <td>370376</td>\n",
       "      <td>7.7500</td>\n",
       "      <td>NaN</td>\n",
       "      <td>Q</td>\n",
       "    </tr>\n",
       "  </tbody>\n",
       "</table>\n",
       "<p>708 rows × 12 columns</p>\n",
       "</div>"
      ],
      "text/plain": [
       "     PassengerId  Survived  Pclass                                      Name  \\\n",
       "0              1         0       3                   Braund, Mr. Owen Harris   \n",
       "2              3         1       3                    Heikkinen, Miss. Laina   \n",
       "4              5         0       3                  Allen, Mr. William Henry   \n",
       "5              6         0       3                          Moran, Mr. James   \n",
       "7              8         0       3            Palsson, Master. Gosta Leonard   \n",
       "..           ...       ...     ...                                       ...   \n",
       "884          885         0       3                    Sutehall, Mr. Henry Jr   \n",
       "885          886         0       3      Rice, Mrs. William (Margaret Norton)   \n",
       "886          887         0       2                     Montvila, Rev. Juozas   \n",
       "888          889         0       3  Johnston, Miss. Catherine Helen \"Carrie\"   \n",
       "890          891         0       3                       Dooley, Mr. Patrick   \n",
       "\n",
       "        Sex   Age  SibSp  Parch            Ticket     Fare Cabin Embarked  \n",
       "0      male  22.0      1      0         A/5 21171   7.2500   NaN        S  \n",
       "2    female  26.0      0      0  STON/O2. 3101282   7.9250   NaN        S  \n",
       "4      male  35.0      0      0            373450   8.0500   NaN        S  \n",
       "5      male   NaN      0      0            330877   8.4583   NaN        Q  \n",
       "7      male   2.0      3      1            349909  21.0750   NaN        S  \n",
       "..      ...   ...    ...    ...               ...      ...   ...      ...  \n",
       "884    male  25.0      0      0   SOTON/OQ 392076   7.0500   NaN        S  \n",
       "885  female  39.0      0      5            382652  29.1250   NaN        Q  \n",
       "886    male  27.0      0      0            211536  13.0000   NaN        S  \n",
       "888  female   NaN      1      2        W./C. 6607  23.4500   NaN        S  \n",
       "890    male  32.0      0      0            370376   7.7500   NaN        Q  \n",
       "\n",
       "[708 rows x 12 columns]"
      ]
     },
     "execution_count": 2,
     "metadata": {},
     "output_type": "execute_result"
    }
   ],
   "source": [
    "training = pd.read_csv(\"/kaggle/input/titanic/train.csv\")\n",
    "test = pd.read_csv(\"/kaggle/input/titanic/test.csv\")\n",
    "training\n",
    "\n",
    "training.describe()\n",
    "training.isna().any()\n",
    "training[training.isnull().any(axis = 1)]"
   ]
  },
  {
   "cell_type": "markdown",
   "id": "c7ce376f",
   "metadata": {
    "papermill": {
     "duration": 0.004709,
     "end_time": "2024-12-18T14:51:04.847854",
     "exception": false,
     "start_time": "2024-12-18T14:51:04.843145",
     "status": "completed"
    },
    "tags": []
   },
   "source": [
    "# Data Cleaning / Attribute Preprocessing"
   ]
  },
  {
   "cell_type": "code",
   "execution_count": 3,
   "id": "ef1f754f",
   "metadata": {
    "execution": {
     "iopub.execute_input": "2024-12-18T14:51:04.859325Z",
     "iopub.status.busy": "2024-12-18T14:51:04.858876Z",
     "iopub.status.idle": "2024-12-18T14:51:04.870021Z",
     "shell.execute_reply": "2024-12-18T14:51:04.868933Z"
    },
    "papermill": {
     "duration": 0.019542,
     "end_time": "2024-12-18T14:51:04.872226",
     "exception": false,
     "start_time": "2024-12-18T14:51:04.852684",
     "status": "completed"
    },
    "tags": []
   },
   "outputs": [
    {
     "data": {
      "text/plain": [
       "False"
      ]
     },
     "execution_count": 3,
     "metadata": {},
     "output_type": "execute_result"
    }
   ],
   "source": [
    "#np.median(training[\"Age\"])\n",
    "na_median = training[\"Age\"].median()\n",
    "na_mean = training['Age'].mean()\n",
    "training[\"Age\"] = training[\"Age\"].fillna(na_median)\n",
    "#temp_data.isna().any()\n",
    "training[\"Age\"].isna().any()"
   ]
  },
  {
   "cell_type": "code",
   "execution_count": 4,
   "id": "c630c299",
   "metadata": {
    "execution": {
     "iopub.execute_input": "2024-12-18T14:51:04.884742Z",
     "iopub.status.busy": "2024-12-18T14:51:04.883865Z",
     "iopub.status.idle": "2024-12-18T14:51:04.898314Z",
     "shell.execute_reply": "2024-12-18T14:51:04.897279Z"
    },
    "papermill": {
     "duration": 0.023628,
     "end_time": "2024-12-18T14:51:04.900964",
     "exception": false,
     "start_time": "2024-12-18T14:51:04.877336",
     "status": "completed"
    },
    "tags": []
   },
   "outputs": [
    {
     "data": {
      "text/plain": [
       "False"
      ]
     },
     "execution_count": 4,
     "metadata": {},
     "output_type": "execute_result"
    }
   ],
   "source": [
    "training[\"Cabin\"].value_counts()\n",
    "training[\"Cabin\"] = training[\"Cabin\"].fillna(\"No Cabin Info\")\n",
    "training[\"Cabin\"].isna().any()"
   ]
  },
  {
   "cell_type": "code",
   "execution_count": 5,
   "id": "b0069a24",
   "metadata": {
    "execution": {
     "iopub.execute_input": "2024-12-18T14:51:04.914728Z",
     "iopub.status.busy": "2024-12-18T14:51:04.913202Z",
     "iopub.status.idle": "2024-12-18T14:51:04.922934Z",
     "shell.execute_reply": "2024-12-18T14:51:04.921928Z"
    },
    "papermill": {
     "duration": 0.018875,
     "end_time": "2024-12-18T14:51:04.925264",
     "exception": false,
     "start_time": "2024-12-18T14:51:04.906389",
     "status": "completed"
    },
    "tags": []
   },
   "outputs": [
    {
     "data": {
      "text/plain": [
       "False"
      ]
     },
     "execution_count": 5,
     "metadata": {},
     "output_type": "execute_result"
    }
   ],
   "source": [
    "training[\"Embarked\"].value_counts()\n",
    "training[\"Embarked\"] = training[\"Embarked\"].fillna(\"No Port Info\")\n",
    "training[\"Embarked\"].isna().any()"
   ]
  },
  {
   "cell_type": "code",
   "execution_count": 6,
   "id": "2f00bde4",
   "metadata": {
    "execution": {
     "iopub.execute_input": "2024-12-18T14:51:04.938312Z",
     "iopub.status.busy": "2024-12-18T14:51:04.937219Z",
     "iopub.status.idle": "2024-12-18T14:51:04.944865Z",
     "shell.execute_reply": "2024-12-18T14:51:04.943534Z"
    },
    "papermill": {
     "duration": 0.016874,
     "end_time": "2024-12-18T14:51:04.947707",
     "exception": false,
     "start_time": "2024-12-18T14:51:04.930833",
     "status": "completed"
    },
    "tags": []
   },
   "outputs": [],
   "source": [
    "## Creates an attribute of family Size\n",
    "training['FamSize'] = training['SibSp'] + training['Parch']\n",
    "test['FamSize'] = test['SibSp'] + test['Parch']"
   ]
  },
  {
   "cell_type": "markdown",
   "id": "f686a567",
   "metadata": {
    "papermill": {
     "duration": 0.004921,
     "end_time": "2024-12-18T14:51:04.958266",
     "exception": false,
     "start_time": "2024-12-18T14:51:04.953345",
     "status": "completed"
    },
    "tags": []
   },
   "source": [
    "# Exploratory Data Analysis\n"
   ]
  },
  {
   "cell_type": "code",
   "execution_count": 7,
   "id": "4fca133d",
   "metadata": {
    "execution": {
     "iopub.execute_input": "2024-12-18T14:51:04.970256Z",
     "iopub.status.busy": "2024-12-18T14:51:04.969902Z",
     "iopub.status.idle": "2024-12-18T14:51:05.363140Z",
     "shell.execute_reply": "2024-12-18T14:51:05.361036Z"
    },
    "papermill": {
     "duration": 0.403184,
     "end_time": "2024-12-18T14:51:05.366466",
     "exception": false,
     "start_time": "2024-12-18T14:51:04.963282",
     "status": "completed"
    },
    "tags": []
   },
   "outputs": [
    {
     "name": "stderr",
     "output_type": "stream",
     "text": [
      "/opt/conda/lib/python3.10/site-packages/seaborn/_oldcore.py:1119: FutureWarning: use_inf_as_na option is deprecated and will be removed in a future version. Convert inf values to NaN before operating instead.\n",
      "  with pd.option_context('mode.use_inf_as_na', True):\n"
     ]
    },
    {
     "data": {
      "image/png": "[encoded data removed]",
      "text/plain": [
       "<Figure size 640x480 with 1 Axes>"
      ]
     },
     "metadata": {},
     "output_type": "display_data"
    }
   ],
   "source": [
    "## Age Distribution Note(Unimodal at 28 due to NaValue Median Repair)\n",
    "sns.histplot(training['Age'], bins=30, kde=True, color='blue')\n",
    "plt.title(\"Age Distribution\")\n",
    "plt.show()\n"
   ]
  },
  {
   "cell_type": "markdown",
   "id": "cb34e6e8",
   "metadata": {
    "papermill": {
     "duration": 0.005556,
     "end_time": "2024-12-18T14:51:05.378313",
     "exception": false,
     "start_time": "2024-12-18T14:51:05.372757",
     "status": "completed"
    },
    "tags": []
   },
   "source": [
    "### Sex appears to impact survival rate (ie. Favours Women) "
   ]
  },
  {
   "cell_type": "code",
   "execution_count": 8,
   "id": "eb1f1ab0",
   "metadata": {
    "execution": {
     "iopub.execute_input": "2024-12-18T14:51:05.392860Z",
     "iopub.status.busy": "2024-12-18T14:51:05.391383Z",
     "iopub.status.idle": "2024-12-18T14:51:05.417692Z",
     "shell.execute_reply": "2024-12-18T14:51:05.416157Z"
    },
    "papermill": {
     "duration": 0.03618,
     "end_time": "2024-12-18T14:51:05.420111",
     "exception": false,
     "start_time": "2024-12-18T14:51:05.383931",
     "status": "completed"
    },
    "tags": []
   },
   "outputs": [
    {
     "data": {
      "text/html": [
       "<div>\n",
       "<style scoped>\n",
       "    .dataframe tbody tr th:only-of-type {\n",
       "        vertical-align: middle;\n",
       "    }\n",
       "\n",
       "    .dataframe tbody tr th {\n",
       "        vertical-align: top;\n",
       "    }\n",
       "\n",
       "    .dataframe thead th {\n",
       "        text-align: right;\n",
       "    }\n",
       "</style>\n",
       "<table border=\"1\" class=\"dataframe\">\n",
       "  <thead>\n",
       "    <tr style=\"text-align: right;\">\n",
       "      <th></th>\n",
       "      <th>Survived</th>\n",
       "      <th>Age</th>\n",
       "      <th>Fare</th>\n",
       "    </tr>\n",
       "    <tr>\n",
       "      <th>Sex</th>\n",
       "      <th></th>\n",
       "      <th></th>\n",
       "      <th></th>\n",
       "    </tr>\n",
       "  </thead>\n",
       "  <tbody>\n",
       "    <tr>\n",
       "      <th>female</th>\n",
       "      <td>0.742038</td>\n",
       "      <td>27.929936</td>\n",
       "      <td>44.479818</td>\n",
       "    </tr>\n",
       "    <tr>\n",
       "      <th>male</th>\n",
       "      <td>0.188908</td>\n",
       "      <td>30.140676</td>\n",
       "      <td>25.523893</td>\n",
       "    </tr>\n",
       "  </tbody>\n",
       "</table>\n",
       "</div>"
      ],
      "text/plain": [
       "        Survived        Age       Fare\n",
       "Sex                                   \n",
       "female  0.742038  27.929936  44.479818\n",
       "male    0.188908  30.140676  25.523893"
      ]
     },
     "execution_count": 8,
     "metadata": {},
     "output_type": "execute_result"
    }
   ],
   "source": [
    "# Sex Stats (Survival Rate, Mean Age and Mean Fare)\n",
    "sex_stats= training.groupby(training['Sex']).agg(\n",
    "    {'Survived': 'mean',\n",
    "    'Age': 'mean',\n",
    "    'Fare': 'mean'})\n",
    "sex_stats\n",
    "\n"
   ]
  },
  {
   "cell_type": "markdown",
   "id": "340156e8",
   "metadata": {
    "papermill": {
     "duration": 0.005596,
     "end_time": "2024-12-18T14:51:05.431800",
     "exception": false,
     "start_time": "2024-12-18T14:51:05.426204",
     "status": "completed"
    },
    "tags": []
   },
   "source": [
    "### Class also appears to impact Survival Rate (ie. Favours Higher classes)"
   ]
  },
  {
   "cell_type": "code",
   "execution_count": 9,
   "id": "76a6cfa4",
   "metadata": {
    "execution": {
     "iopub.execute_input": "2024-12-18T14:51:05.448821Z",
     "iopub.status.busy": "2024-12-18T14:51:05.448195Z",
     "iopub.status.idle": "2024-12-18T14:51:05.461409Z",
     "shell.execute_reply": "2024-12-18T14:51:05.460143Z"
    },
    "papermill": {
     "duration": 0.023345,
     "end_time": "2024-12-18T14:51:05.463591",
     "exception": false,
     "start_time": "2024-12-18T14:51:05.440246",
     "status": "completed"
    },
    "tags": []
   },
   "outputs": [
    {
     "data": {
      "text/plain": [
       "Pclass\n",
       "1    0.629630\n",
       "2    0.472826\n",
       "3    0.242363\n",
       "Name: Survived, dtype: float64"
      ]
     },
     "execution_count": 9,
     "metadata": {},
     "output_type": "execute_result"
    }
   ],
   "source": [
    "training.groupby(['Pclass'])[\"Survived\"].mean()"
   ]
  },
  {
   "cell_type": "markdown",
   "id": "b965c554",
   "metadata": {
    "papermill": {
     "duration": 0.00862,
     "end_time": "2024-12-18T14:51:05.479273",
     "exception": false,
     "start_time": "2024-12-18T14:51:05.470653",
     "status": "completed"
    },
    "tags": []
   },
   "source": [
    "## Final Preprocessing"
   ]
  },
  {
   "cell_type": "code",
   "execution_count": 10,
   "id": "6d043483",
   "metadata": {
    "execution": {
     "iopub.execute_input": "2024-12-18T14:51:05.495591Z",
     "iopub.status.busy": "2024-12-18T14:51:05.495182Z",
     "iopub.status.idle": "2024-12-18T14:51:05.518619Z",
     "shell.execute_reply": "2024-12-18T14:51:05.517487Z"
    },
    "papermill": {
     "duration": 0.032951,
     "end_time": "2024-12-18T14:51:05.520732",
     "exception": false,
     "start_time": "2024-12-18T14:51:05.487781",
     "status": "completed"
    },
    "tags": []
   },
   "outputs": [
    {
     "data": {
      "text/html": [
       "<div>\n",
       "<style scoped>\n",
       "    .dataframe tbody tr th:only-of-type {\n",
       "        vertical-align: middle;\n",
       "    }\n",
       "\n",
       "    .dataframe tbody tr th {\n",
       "        vertical-align: top;\n",
       "    }\n",
       "\n",
       "    .dataframe thead th {\n",
       "        text-align: right;\n",
       "    }\n",
       "</style>\n",
       "<table border=\"1\" class=\"dataframe\">\n",
       "  <thead>\n",
       "    <tr style=\"text-align: right;\">\n",
       "      <th></th>\n",
       "      <th>PassengerId</th>\n",
       "      <th>Survived</th>\n",
       "      <th>Pclass</th>\n",
       "      <th>Name</th>\n",
       "      <th>Sex</th>\n",
       "      <th>Age</th>\n",
       "      <th>SibSp</th>\n",
       "      <th>Parch</th>\n",
       "      <th>Ticket</th>\n",
       "      <th>Fare</th>\n",
       "      <th>Cabin</th>\n",
       "      <th>Embarked</th>\n",
       "      <th>FamSize</th>\n",
       "    </tr>\n",
       "  </thead>\n",
       "  <tbody>\n",
       "    <tr>\n",
       "      <th>0</th>\n",
       "      <td>1</td>\n",
       "      <td>0</td>\n",
       "      <td>3</td>\n",
       "      <td>Braund, Mr. Owen Harris</td>\n",
       "      <td>1</td>\n",
       "      <td>22.0</td>\n",
       "      <td>1</td>\n",
       "      <td>0</td>\n",
       "      <td>A/5 21171</td>\n",
       "      <td>7.2500</td>\n",
       "      <td>No Cabin Info</td>\n",
       "      <td>S</td>\n",
       "      <td>1</td>\n",
       "    </tr>\n",
       "    <tr>\n",
       "      <th>1</th>\n",
       "      <td>2</td>\n",
       "      <td>1</td>\n",
       "      <td>1</td>\n",
       "      <td>Cumings, Mrs. John Bradley (Florence Briggs Th...</td>\n",
       "      <td>0</td>\n",
       "      <td>38.0</td>\n",
       "      <td>1</td>\n",
       "      <td>0</td>\n",
       "      <td>PC 17599</td>\n",
       "      <td>71.2833</td>\n",
       "      <td>C85</td>\n",
       "      <td>C</td>\n",
       "      <td>1</td>\n",
       "    </tr>\n",
       "    <tr>\n",
       "      <th>2</th>\n",
       "      <td>3</td>\n",
       "      <td>1</td>\n",
       "      <td>3</td>\n",
       "      <td>Heikkinen, Miss. Laina</td>\n",
       "      <td>0</td>\n",
       "      <td>26.0</td>\n",
       "      <td>0</td>\n",
       "      <td>0</td>\n",
       "      <td>STON/O2. 3101282</td>\n",
       "      <td>7.9250</td>\n",
       "      <td>No Cabin Info</td>\n",
       "      <td>S</td>\n",
       "      <td>0</td>\n",
       "    </tr>\n",
       "    <tr>\n",
       "      <th>3</th>\n",
       "      <td>4</td>\n",
       "      <td>1</td>\n",
       "      <td>1</td>\n",
       "      <td>Futrelle, Mrs. Jacques Heath (Lily May Peel)</td>\n",
       "      <td>0</td>\n",
       "      <td>35.0</td>\n",
       "      <td>1</td>\n",
       "      <td>0</td>\n",
       "      <td>113803</td>\n",
       "      <td>53.1000</td>\n",
       "      <td>C123</td>\n",
       "      <td>S</td>\n",
       "      <td>1</td>\n",
       "    </tr>\n",
       "    <tr>\n",
       "      <th>4</th>\n",
       "      <td>5</td>\n",
       "      <td>0</td>\n",
       "      <td>3</td>\n",
       "      <td>Allen, Mr. William Henry</td>\n",
       "      <td>1</td>\n",
       "      <td>35.0</td>\n",
       "      <td>0</td>\n",
       "      <td>0</td>\n",
       "      <td>373450</td>\n",
       "      <td>8.0500</td>\n",
       "      <td>No Cabin Info</td>\n",
       "      <td>S</td>\n",
       "      <td>0</td>\n",
       "    </tr>\n",
       "    <tr>\n",
       "      <th>...</th>\n",
       "      <td>...</td>\n",
       "      <td>...</td>\n",
       "      <td>...</td>\n",
       "      <td>...</td>\n",
       "      <td>...</td>\n",
       "      <td>...</td>\n",
       "      <td>...</td>\n",
       "      <td>...</td>\n",
       "      <td>...</td>\n",
       "      <td>...</td>\n",
       "      <td>...</td>\n",
       "      <td>...</td>\n",
       "      <td>...</td>\n",
       "    </tr>\n",
       "    <tr>\n",
       "      <th>886</th>\n",
       "      <td>887</td>\n",
       "      <td>0</td>\n",
       "      <td>2</td>\n",
       "      <td>Montvila, Rev. Juozas</td>\n",
       "      <td>1</td>\n",
       "      <td>27.0</td>\n",
       "      <td>0</td>\n",
       "      <td>0</td>\n",
       "      <td>211536</td>\n",
       "      <td>13.0000</td>\n",
       "      <td>No Cabin Info</td>\n",
       "      <td>S</td>\n",
       "      <td>0</td>\n",
       "    </tr>\n",
       "    <tr>\n",
       "      <th>887</th>\n",
       "      <td>888</td>\n",
       "      <td>1</td>\n",
       "      <td>1</td>\n",
       "      <td>Graham, Miss. Margaret Edith</td>\n",
       "      <td>0</td>\n",
       "      <td>19.0</td>\n",
       "      <td>0</td>\n",
       "      <td>0</td>\n",
       "      <td>112053</td>\n",
       "      <td>30.0000</td>\n",
       "      <td>B42</td>\n",
       "      <td>S</td>\n",
       "      <td>0</td>\n",
       "    </tr>\n",
       "    <tr>\n",
       "      <th>888</th>\n",
       "      <td>889</td>\n",
       "      <td>0</td>\n",
       "      <td>3</td>\n",
       "      <td>Johnston, Miss. Catherine Helen \"Carrie\"</td>\n",
       "      <td>0</td>\n",
       "      <td>28.0</td>\n",
       "      <td>1</td>\n",
       "      <td>2</td>\n",
       "      <td>W./C. 6607</td>\n",
       "      <td>23.4500</td>\n",
       "      <td>No Cabin Info</td>\n",
       "      <td>S</td>\n",
       "      <td>3</td>\n",
       "    </tr>\n",
       "    <tr>\n",
       "      <th>889</th>\n",
       "      <td>890</td>\n",
       "      <td>1</td>\n",
       "      <td>1</td>\n",
       "      <td>Behr, Mr. Karl Howell</td>\n",
       "      <td>1</td>\n",
       "      <td>26.0</td>\n",
       "      <td>0</td>\n",
       "      <td>0</td>\n",
       "      <td>111369</td>\n",
       "      <td>30.0000</td>\n",
       "      <td>C148</td>\n",
       "      <td>C</td>\n",
       "      <td>0</td>\n",
       "    </tr>\n",
       "    <tr>\n",
       "      <th>890</th>\n",
       "      <td>891</td>\n",
       "      <td>0</td>\n",
       "      <td>3</td>\n",
       "      <td>Dooley, Mr. Patrick</td>\n",
       "      <td>1</td>\n",
       "      <td>32.0</td>\n",
       "      <td>0</td>\n",
       "      <td>0</td>\n",
       "      <td>370376</td>\n",
       "      <td>7.7500</td>\n",
       "      <td>No Cabin Info</td>\n",
       "      <td>Q</td>\n",
       "      <td>0</td>\n",
       "    </tr>\n",
       "  </tbody>\n",
       "</table>\n",
       "<p>891 rows × 13 columns</p>\n",
       "</div>"
      ],
      "text/plain": [
       "     PassengerId  Survived  Pclass  \\\n",
       "0              1         0       3   \n",
       "1              2         1       1   \n",
       "2              3         1       3   \n",
       "3              4         1       1   \n",
       "4              5         0       3   \n",
       "..           ...       ...     ...   \n",
       "886          887         0       2   \n",
       "887          888         1       1   \n",
       "888          889         0       3   \n",
       "889          890         1       1   \n",
       "890          891         0       3   \n",
       "\n",
       "                                                  Name  Sex   Age  SibSp  \\\n",
       "0                              Braund, Mr. Owen Harris    1  22.0      1   \n",
       "1    Cumings, Mrs. John Bradley (Florence Briggs Th...    0  38.0      1   \n",
       "2                               Heikkinen, Miss. Laina    0  26.0      0   \n",
       "3         Futrelle, Mrs. Jacques Heath (Lily May Peel)    0  35.0      1   \n",
       "4                             Allen, Mr. William Henry    1  35.0      0   \n",
       "..                                                 ...  ...   ...    ...   \n",
       "886                              Montvila, Rev. Juozas    1  27.0      0   \n",
       "887                       Graham, Miss. Margaret Edith    0  19.0      0   \n",
       "888           Johnston, Miss. Catherine Helen \"Carrie\"    0  28.0      1   \n",
       "889                              Behr, Mr. Karl Howell    1  26.0      0   \n",
       "890                                Dooley, Mr. Patrick    1  32.0      0   \n",
       "\n",
       "     Parch            Ticket     Fare          Cabin Embarked  FamSize  \n",
       "0        0         A/5 21171   7.2500  No Cabin Info        S        1  \n",
       "1        0          PC 17599  71.2833            C85        C        1  \n",
       "2        0  STON/O2. 3101282   7.9250  No Cabin Info        S        0  \n",
       "3        0            113803  53.1000           C123        S        1  \n",
       "4        0            373450   8.0500  No Cabin Info        S        0  \n",
       "..     ...               ...      ...            ...      ...      ...  \n",
       "886      0            211536  13.0000  No Cabin Info        S        0  \n",
       "887      0            112053  30.0000            B42        S        0  \n",
       "888      2        W./C. 6607  23.4500  No Cabin Info        S        3  \n",
       "889      0            111369  30.0000           C148        C        0  \n",
       "890      0            370376   7.7500  No Cabin Info        Q        0  \n",
       "\n",
       "[891 rows x 13 columns]"
      ]
     },
     "execution_count": 10,
     "metadata": {},
     "output_type": "execute_result"
    }
   ],
   "source": [
    "label_encoder = LabelEncoder()\n",
    "training['Sex'] = label_encoder.fit_transform(training['Sex'])\n",
    "## Female = 0, Male = 1\n",
    "training"
   ]
  },
  {
   "cell_type": "markdown",
   "id": "b3ac9c53",
   "metadata": {
    "papermill": {
     "duration": 0.006102,
     "end_time": "2024-12-18T14:51:05.533602",
     "exception": false,
     "start_time": "2024-12-18T14:51:05.527500",
     "status": "completed"
    },
    "tags": []
   },
   "source": [
    "# Feature Engineering"
   ]
  },
  {
   "cell_type": "code",
   "execution_count": 11,
   "id": "5c97b60d",
   "metadata": {
    "execution": {
     "iopub.execute_input": "2024-12-18T14:51:05.549468Z",
     "iopub.status.busy": "2024-12-18T14:51:05.548838Z",
     "iopub.status.idle": "2024-12-18T14:51:05.557380Z",
     "shell.execute_reply": "2024-12-18T14:51:05.556024Z"
    },
    "papermill": {
     "duration": 0.019422,
     "end_time": "2024-12-18T14:51:05.559959",
     "exception": false,
     "start_time": "2024-12-18T14:51:05.540537",
     "status": "completed"
    },
    "tags": []
   },
   "outputs": [],
   "source": [
    "X_train= training[['Pclass','Sex','Age','SibSp','Parch','Fare','FamSize']]\n",
    "y_train = training['Survived']\n"
   ]
  },
  {
   "cell_type": "markdown",
   "id": "c00645f6",
   "metadata": {
    "papermill": {
     "duration": 0.00619,
     "end_time": "2024-12-18T14:51:05.572841",
     "exception": false,
     "start_time": "2024-12-18T14:51:05.566651",
     "status": "completed"
    },
    "tags": []
   },
   "source": [
    "# Creating the Model"
   ]
  },
  {
   "cell_type": "code",
   "execution_count": 12,
   "id": "0d969b8d",
   "metadata": {
    "execution": {
     "iopub.execute_input": "2024-12-18T14:51:05.588091Z",
     "iopub.status.busy": "2024-12-18T14:51:05.587482Z",
     "iopub.status.idle": "2024-12-18T14:51:05.842567Z",
     "shell.execute_reply": "2024-12-18T14:51:05.841350Z"
    },
    "papermill": {
     "duration": 0.26649,
     "end_time": "2024-12-18T14:51:05.845761",
     "exception": false,
     "start_time": "2024-12-18T14:51:05.579271",
     "status": "completed"
    },
    "tags": []
   },
   "outputs": [
    {
     "data": {
      "text/html": [
       "<style>#sk-container-id-1 {color: black;background-color: white;}#sk-container-id-1 pre{padding: 0;}#sk-container-id-1 div.sk-toggleable {background-color: white;}#sk-container-id-1 label.sk-toggleable__label {cursor: pointer;display: block;width: 100%;margin-bottom: 0;padding: 0.3em;box-sizing: border-box;text-align: center;}#sk-container-id-1 label.sk-toggleable__label-arrow:before {content: \"▸\";float: left;margin-right: 0.25em;color: #696969;}#sk-container-id-1 label.sk-toggleable__label-arrow:hover:before {color: black;}#sk-container-id-1 div.sk-estimator:hover label.sk-toggleable__label-arrow:before {color: black;}#sk-container-id-1 div.sk-toggleable__content {max-height: 0;max-width: 0;overflow: hidden;text-align: left;background-color: #f0f8ff;}#sk-container-id-1 div.sk-toggleable__content pre {margin: 0.2em;color: black;border-radius: 0.25em;background-color: #f0f8ff;}#sk-container-id-1 input.sk-toggleable__control:checked~div.sk-toggleable__content {max-height: 200px;max-width: 100%;overflow: auto;}#sk-container-id-1 input.sk-toggleable__control:checked~label.sk-toggleable__label-arrow:before {content: \"▾\";}#sk-container-id-1 div.sk-estimator input.sk-toggleable__control:checked~label.sk-toggleable__label {background-color: #d4ebff;}#sk-container-id-1 div.sk-label input.sk-toggleable__control:checked~label.sk-toggleable__label {background-color: #d4ebff;}#sk-container-id-1 input.sk-hidden--visually {border: 0;clip: rect(1px 1px 1px 1px);clip: rect(1px, 1px, 1px, 1px);height: 1px;margin: -1px;overflow: hidden;padding: 0;position: absolute;width: 1px;}#sk-container-id-1 div.sk-estimator {font-family: monospace;background-color: #f0f8ff;border: 1px dotted black;border-radius: 0.25em;box-sizing: border-box;margin-bottom: 0.5em;}#sk-container-id-1 div.sk-estimator:hover {background-color: #d4ebff;}#sk-container-id-1 div.sk-parallel-item::after {content: \"\";width: 100%;border-bottom: 1px solid gray;flex-grow: 1;}#sk-container-id-1 div.sk-label:hover label.sk-toggleable__label {background-color: #d4ebff;}#sk-container-id-1 div.sk-serial::before {content: \"\";position: absolute;border-left: 1px solid gray;box-sizing: border-box;top: 0;bottom: 0;left: 50%;z-index: 0;}#sk-container-id-1 div.sk-serial {display: flex;flex-direction: column;align-items: center;background-color: white;padding-right: 0.2em;padding-left: 0.2em;position: relative;}#sk-container-id-1 div.sk-item {position: relative;z-index: 1;}#sk-container-id-1 div.sk-parallel {display: flex;align-items: stretch;justify-content: center;background-color: white;position: relative;}#sk-container-id-1 div.sk-item::before, #sk-container-id-1 div.sk-parallel-item::before {content: \"\";position: absolute;border-left: 1px solid gray;box-sizing: border-box;top: 0;bottom: 0;left: 50%;z-index: -1;}#sk-container-id-1 div.sk-parallel-item {display: flex;flex-direction: column;z-index: 1;position: relative;background-color: white;}#sk-container-id-1 div.sk-parallel-item:first-child::after {align-self: flex-end;width: 50%;}#sk-container-id-1 div.sk-parallel-item:last-child::after {align-self: flex-start;width: 50%;}#sk-container-id-1 div.sk-parallel-item:only-child::after {width: 0;}#sk-container-id-1 div.sk-dashed-wrapped {border: 1px dashed gray;margin: 0 0.4em 0.5em 0.4em;box-sizing: border-box;padding-bottom: 0.4em;background-color: white;}#sk-container-id-1 div.sk-label label {font-family: monospace;font-weight: bold;display: inline-block;line-height: 1.2em;}#sk-container-id-1 div.sk-label-container {text-align: center;}#sk-container-id-1 div.sk-container {/* jupyter's `normalize.less` sets `[hidden] { display: none; }` but bootstrap.min.css set `[hidden] { display: none !important; }` so we also need the `!important` here to be able to override the default hidden behavior on the sphinx rendered scikit-learn.org. See: https://github.com/scikit-learn/scikit-learn/issues/21755 */display: inline-block !important;position: relative;}#sk-container-id-1 div.sk-text-repr-fallback {display: none;}</style><div id=\"sk-container-id-1\" class=\"sk-top-container\"><div class=\"sk-text-repr-fallback\"><pre>RandomForestClassifier(random_state=1)</pre><b>In a Jupyter environment, please rerun this cell to show the HTML representation or trust the notebook. <br />On GitHub, the HTML representation is unable to render, please try loading this page with nbviewer.org.</b></div><div class=\"sk-container\" hidden><div class=\"sk-item\"><div class=\"sk-estimator sk-toggleable\"><input class=\"sk-toggleable__control sk-hidden--visually\" id=\"sk-estimator-id-1\" type=\"checkbox\" checked><label for=\"sk-estimator-id-1\" class=\"sk-toggleable__label sk-toggleable__label-arrow\">RandomForestClassifier</label><div class=\"sk-toggleable__content\"><pre>RandomForestClassifier(random_state=1)</pre></div></div></div></div></div>"
      ],
      "text/plain": [
       "RandomForestClassifier(random_state=1)"
      ]
     },
     "execution_count": 12,
     "metadata": {},
     "output_type": "execute_result"
    }
   ],
   "source": [
    "model = RandomForestClassifier(random_state= 1)\n",
    "model.fit(X_train,y_train)\n",
    "\n"
   ]
  },
  {
   "cell_type": "markdown",
   "id": "48f2a5cb",
   "metadata": {
    "papermill": {
     "duration": 0.006777,
     "end_time": "2024-12-18T14:51:05.861867",
     "exception": false,
     "start_time": "2024-12-18T14:51:05.855090",
     "status": "completed"
    },
    "tags": []
   },
   "source": [
    "# Test Dataset preprocessing"
   ]
  },
  {
   "cell_type": "code",
   "execution_count": 13,
   "id": "9c9073a0",
   "metadata": {
    "execution": {
     "iopub.execute_input": "2024-12-18T14:51:05.886408Z",
     "iopub.status.busy": "2024-12-18T14:51:05.885954Z",
     "iopub.status.idle": "2024-12-18T14:51:05.897439Z",
     "shell.execute_reply": "2024-12-18T14:51:05.896239Z"
    },
    "papermill": {
     "duration": 0.027809,
     "end_time": "2024-12-18T14:51:05.900517",
     "exception": false,
     "start_time": "2024-12-18T14:51:05.872708",
     "status": "completed"
    },
    "tags": []
   },
   "outputs": [],
   "source": [
    "test['Age'].isna().sum()\n",
    "temp = test['Age'].dropna()\n",
    "test_age_mean = temp.mean().round(0)\n",
    "\n",
    "test['Age'] = test['Age'].fillna(test_age_mean)\n",
    "test['Fare'] = test['Fare'].fillna(test['Fare'].median())\n",
    "test['Cabin'] = test['Cabin'].fillna('No Cabin Info')\n",
    "\n",
    "test['Sex'] = label_encoder.transform(test['Sex'])\n",
    "\n",
    "\n"
   ]
  },
  {
   "cell_type": "code",
   "execution_count": 14,
   "id": "e4bd5c80",
   "metadata": {
    "execution": {
     "iopub.execute_input": "2024-12-18T14:51:05.923261Z",
     "iopub.status.busy": "2024-12-18T14:51:05.922689Z",
     "iopub.status.idle": "2024-12-18T14:51:05.952600Z",
     "shell.execute_reply": "2024-12-18T14:51:05.951435Z"
    },
    "papermill": {
     "duration": 0.042865,
     "end_time": "2024-12-18T14:51:05.955106",
     "exception": false,
     "start_time": "2024-12-18T14:51:05.912241",
     "status": "completed"
    },
    "tags": []
   },
   "outputs": [],
   "source": [
    "X_test = test[['Pclass','Sex','Age','SibSp','Parch','Fare','FamSize']]\n",
    "y_pred = model.predict(X_test)\n",
    "\n",
    "submission = pd.DataFrame({\n",
    "    'PassengerId': test['PassengerId'],  # Assuming 'PassengerId' is present in the test set\n",
    "    'Survived': y_pred\n",
    "})\n",
    "\n",
    "submission.to_csv('titanic_predictions.csv', index=False)\n",
    "\n"
   ]
  }
 ],
 "metadata": {
  "kaggle": {
   "accelerator": "none",
   "dataSources": [
    {
     "databundleVersionId": 26502,
     "sourceId": 3136,
     "sourceType": "competition"
    }
   ],
   "dockerImageVersionId": 30804,
   "isGpuEnabled": false,
   "isInternetEnabled": false,
   "language": "python",
   "sourceType": "notebook"
  },
  "kernelspec": {
   "display_name": "Python 3",
   "language": "python",
   "name": "python3"
  },
  "language_info": {
   "codemirror_mode": {
    "name": "ipython",
    "version": 3
   },
   "file_extension": ".py",
   "mimetype": "text/x-python",
   "name": "python",
   "nbconvert_exporter": "python",
   "pygments_lexer": "ipython3",
   "version": "3.10.14"
  },
  "papermill": {
   "default_parameters": {},
   "duration": 8.011066,
   "end_time": "2024-12-18T14:51:06.685043",
   "environment_variables": {},
   "exception": null,
   "input_path": "__notebook__.ipynb",
   "output_path": "__notebook__.ipynb",
   "parameters": {},
   "start_time": "2024-12-18T14:50:58.673977",
   "version": "2.6.0"
  }
 },
 "nbformat": 4,
 "nbformat_minor": 5
}
